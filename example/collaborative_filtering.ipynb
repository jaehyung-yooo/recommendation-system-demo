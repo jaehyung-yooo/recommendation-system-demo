{
 "cells": [
  {
   "cell_type": "markdown",
   "metadata": {},
   "source": [
    "# 유저 기반 협업 필터링"
   ]
  },
  {
   "cell_type": "code",
   "execution_count": 1,
   "metadata": {},
   "outputs": [],
   "source": [
    "import numpy as np\n",
    "import pandas as pd\n",
    "from sklearn.metrics.pairwise import cosine_similarity\n",
    "\n",
    "# 사용자 - 아이템 평점 메트릭스\n",
    "ratings = np.array([\n",
    "  [5,3,4,2,0,0,0], # 행 하나가 0번 사용자의 평점 리스트\n",
    "  [4,3,3,2,3,2,1],\n",
    "  [4,3,4,3,5,4,3],\n",
    "  [3,3,1,5,4,2,3],\n",
    "  [1,5,5,2,1,4,2]\n",
    "])"
   ]
  },
  {
   "cell_type": "code",
   "execution_count": 2,
   "metadata": {},
   "outputs": [
    {
     "name": "stdout",
     "output_type": "stream",
     "text": [
      "사용자간 유사도\n",
      "[[1.         0.84920778 0.69402209 0.60523674 0.6868296 ]\n",
      " [0.84920778 1.         0.95685784 0.8602264  0.81126307]\n",
      " [0.69402209 0.95685784 1.         0.90121683 0.82589664]\n",
      " [0.60523674 0.8602264  0.90121683 1.         0.68470256]\n",
      " [0.6868296  0.81126307 0.82589664 0.68470256 1.        ]]\n"
     ]
    }
   ],
   "source": [
    "# 코사인 유사도\n",
    "user_similarity = cosine_similarity(ratings)\n",
    "print(\"사용자간 유사도\")\n",
    "print(user_similarity)"
   ]
  },
  {
   "cell_type": "code",
   "execution_count": 3,
   "metadata": {},
   "outputs": [
    {
     "data": {
      "text/html": [
       "<div>\n",
       "<style scoped>\n",
       "    .dataframe tbody tr th:only-of-type {\n",
       "        vertical-align: middle;\n",
       "    }\n",
       "\n",
       "    .dataframe tbody tr th {\n",
       "        vertical-align: top;\n",
       "    }\n",
       "\n",
       "    .dataframe thead th {\n",
       "        text-align: right;\n",
       "    }\n",
       "</style>\n",
       "<table border=\"1\" class=\"dataframe\">\n",
       "  <thead>\n",
       "    <tr style=\"text-align: right;\">\n",
       "      <th></th>\n",
       "      <th>0</th>\n",
       "      <th>1</th>\n",
       "      <th>2</th>\n",
       "      <th>3</th>\n",
       "      <th>4</th>\n",
       "    </tr>\n",
       "  </thead>\n",
       "  <tbody>\n",
       "    <tr>\n",
       "      <th>0</th>\n",
       "      <td>1.000000</td>\n",
       "      <td>0.738371</td>\n",
       "      <td>-0.105915</td>\n",
       "      <td>-0.248069</td>\n",
       "      <td>0.180649</td>\n",
       "    </tr>\n",
       "    <tr>\n",
       "      <th>1</th>\n",
       "      <td>0.738371</td>\n",
       "      <td>1.000000</td>\n",
       "      <td>0.484123</td>\n",
       "      <td>-0.132288</td>\n",
       "      <td>-0.041286</td>\n",
       "    </tr>\n",
       "    <tr>\n",
       "      <th>2</th>\n",
       "      <td>-0.105915</td>\n",
       "      <td>0.484123</td>\n",
       "      <td>1.000000</td>\n",
       "      <td>-0.170783</td>\n",
       "      <td>-0.284268</td>\n",
       "    </tr>\n",
       "    <tr>\n",
       "      <th>3</th>\n",
       "      <td>-0.248069</td>\n",
       "      <td>-0.132288</td>\n",
       "      <td>-0.170783</td>\n",
       "      <td>1.000000</td>\n",
       "      <td>-0.655397</td>\n",
       "    </tr>\n",
       "    <tr>\n",
       "      <th>4</th>\n",
       "      <td>0.180649</td>\n",
       "      <td>-0.041286</td>\n",
       "      <td>-0.284268</td>\n",
       "      <td>-0.655397</td>\n",
       "      <td>1.000000</td>\n",
       "    </tr>\n",
       "  </tbody>\n",
       "</table>\n",
       "</div>"
      ],
      "text/plain": [
       "          0         1         2         3         4\n",
       "0  1.000000  0.738371 -0.105915 -0.248069  0.180649\n",
       "1  0.738371  1.000000  0.484123 -0.132288 -0.041286\n",
       "2 -0.105915  0.484123  1.000000 -0.170783 -0.284268\n",
       "3 -0.248069 -0.132288 -0.170783  1.000000 -0.655397\n",
       "4  0.180649 -0.041286 -0.284268 -0.655397  1.000000"
      ]
     },
     "execution_count": 3,
     "metadata": {},
     "output_type": "execute_result"
    }
   ],
   "source": [
    "# 피어슨 상관계수\n",
    "# 전치행렬(.T)을 사용하는 이유:\n",
    "# 원래 ratings 행렬은 (사용자 x 아이템) 형태입니다\n",
    "# corr()은 행(row) 간의 상관관계를 계산하므로 -> 즉 (0,1) 과 (0,2) 의 상관관계를 구하는것 즉 열끼리 비교하기 위해 행 단위로 값을 본다. \n",
    "# 아이템 간의 상관관계를 구하려면 전치하여 (아이템 x 사용자) 형태로 변환해야 합니다\n",
    "corrP = pd.DataFrame(ratings).T.corr() # 전치 행렬 \n",
    "corrP\n"
   ]
  },
  {
   "cell_type": "markdown",
   "metadata": {},
   "source": [
    "## 피어슨 vs 코사인\n",
    "- 피어슨상관 계수 : 두데이터의 변화 경향이 얼마나 비슷한지\n",
    "  - 단순 값의 크기 보다는 증가/감속하는 패턴에 초점\n",
    "- 코사인 유사도 : 두 벡터가 얼마나 비슷한 방향을 가지고 있는지\n"
   ]
  },
  {
   "cell_type": "code",
   "execution_count": 4,
   "metadata": {},
   "outputs": [
    {
     "name": "stdout",
     "output_type": "stream",
     "text": [
      "[1.         0.84920778 0.69402209 0.60523674 0.6868296 ]\n",
      "0    1.000000\n",
      "1    0.738371\n",
      "2   -0.105915\n",
      "3   -0.248069\n",
      "4    0.180649\n",
      "Name: 0, dtype: float64\n"
     ]
    }
   ],
   "source": [
    "# 0번 사용자의 평가 안한 아이템 평점 예측\n",
    "similar_users = user_similarity[0]\n",
    "similar_users_P = corrP[0]\n",
    "\n",
    "print(similar_users)\n",
    "print(similar_users_P)\n",
    "\n",
    "# 0번 사용자의 평가 안한 아이템 평점 예측\n",
    "# 코사인 유사도\n",
    "\n"
   ]
  },
  {
   "cell_type": "code",
   "execution_count": 5,
   "metadata": {},
   "outputs": [
    {
     "name": "stdout",
     "output_type": "stream",
     "text": [
      "[0 3 5 4 1]\n",
      "[1.         0.84920778 0.69402209 0.60523674 0.6868296 ]\n",
      "[1.         0.84920778 0.69402209 0.60523674 0.6868296 ]\n"
     ]
    }
   ],
   "source": [
    "# 영화 5번에 대한 예측 평점\n",
    "\n",
    "# 영화 5번 평점\n",
    "print(ratings[:,4]) # [0 3 5 4 1]\n",
    "print(similar_users) # [1.         0.84920778 0.69402209 0.60523674 0.6868296 ]\n",
    "print(similar_users)\n",
    "\n",
    "# 가중합\n",
    "# 즉 (0*1 + 3*0.84920778 + 5*0.69402209 + 4*0.60523674 + 1*0.6868296) / (0.84920778 + 0.69402209 + 0.60523674 + 0.6868296) = 3.2185386196"
   ]
  },
  {
   "cell_type": "code",
   "execution_count": 8,
   "metadata": {},
   "outputs": [],
   "source": [
    "def get_ubcf_score(ind):\n",
    "  predicted_rating_for_movie_5 = np.dot(similar_users, ratings[:,ind]) / np.sum(similar_users) # 여기에 자기 자긴의 유사도인 1.0이 들어가서 계산이 안맞음 이거 제거되어야함\n",
    "  print(f'영화 {ind+1}에 대한 사용자 A의 예측 평점: {predicted_rating_for_movie_5}')"
   ]
  },
  {
   "cell_type": "code",
   "execution_count": 9,
   "metadata": {},
   "outputs": [
    {
     "name": "stdout",
     "output_type": "stream",
     "text": [
      "영화 5에 대한 사용자 A의 예측 평점: 2.3793495656260024\n",
      "영화 6에 대한 사용자 A의 예측 평점: 2.1986035331720233\n",
      "영화 7에 대한 사용자 A의 예측 평점: 1.5958724299991014\n"
     ]
    }
   ],
   "source": [
    "get_ubcf_score(4)\n",
    "get_ubcf_score(5)\n",
    "get_ubcf_score(6)\n"
   ]
  },
  {
   "cell_type": "markdown",
   "metadata": {},
   "source": [
    "# 아이템 기반 협업 필터링\n",
    "- 방식은 거이 유사\n",
    "- 둘 방식간 예측값은 달라져\n",
    "- 두 방식을 하이브리드로 사용 가능"
   ]
  },
  {
   "cell_type": "code",
   "execution_count": null,
   "metadata": {},
   "outputs": [],
   "source": [
    "import numpy as np\n",
    "import pandas as pd\n",
    "from sklearn.metrics.pairwise import cosine_similarity\n",
    "\n",
    "# 사용자 - 아이템 평점 메트릭스\n",
    "ratings = np.array([\n",
    "  [5,3,4,2,0,0,0], # 행 하나가 0번 사용자의 평점 리스트\n",
    "  [4,3,3,2,3,2,1],\n",
    "  [4,3,4,3,5,4,3],\n",
    "  [3,3,1,5,4,2,3],\n",
    "  [1,5,5,2,1,4,2]\n",
    "])"
   ]
  },
  {
   "cell_type": "code",
   "execution_count": 10,
   "metadata": {},
   "outputs": [
    {
     "name": "stdout",
     "output_type": "stream",
     "text": [
      "아이템간 유사도\n",
      "[[1.         0.82903631 0.8358209  0.84660639 0.76982148 0.6567673\n",
      "  0.68780043]\n",
      " [0.82903631 1.         0.95417386 0.86838837 0.73507872 0.89075396\n",
      "  0.82762358]\n",
      " [0.8358209  0.95417386 1.         0.73852898 0.65007147 0.84993415\n",
      "  0.71327452]\n",
      " [0.84660639 0.86838837 0.73852898 1.         0.88777815 0.79262909\n",
      "  0.92231319]\n",
      " [0.76982148 0.73507872 0.65007147 0.88777815 1.         0.84133414\n",
      "  0.93433146]\n",
      " [0.6567673  0.89075396 0.84993415 0.79262909 0.84133414 1.\n",
      "  0.92313266]\n",
      " [0.68780043 0.82762358 0.71327452 0.92231319 0.93433146 0.92313266\n",
      "  1.        ]]\n"
     ]
    }
   ],
   "source": [
    "item_similarity = cosine_similarity(ratings.T)\n",
    "print(\"아이템간 유사도\")\n",
    "print(item_similarity)\n"
   ]
  },
  {
   "cell_type": "code",
   "execution_count": 11,
   "metadata": {},
   "outputs": [
    {
     "name": "stdout",
     "output_type": "stream",
     "text": [
      "영화 5에 대한 사용자 A의 예측 평점: 1.7926161998371786\n",
      "영화 6에 대한 사용자 A의 예측 평점: 1.8374336870101942\n",
      "영화 7에 대한 사용자 A의 예측 평점: 1.7674361436289245\n"
     ]
    }
   ],
   "source": [
    "user_0_ratings = ratings[0]\n",
    "def get_ibcf_score(ind):\n",
    "  predicted_rating_for_movie_5 = np.dot(user_0_ratings, item_similarity[:, ind]) / np.sum(item_similarity[:,ind])\n",
    "  print(f'영화 {ind+1}에 대한 사용자 A의 예측 평점: {predicted_rating_for_movie_5}')\n",
    "get_ibcf_score(4)\n",
    "get_ibcf_score(5)\n",
    "get_ibcf_score(6)\n",
    "\n"
   ]
  },
  {
   "cell_type": "code",
   "execution_count": null,
   "metadata": {},
   "outputs": [],
   "source": []
  }
 ],
 "metadata": {
  "kernelspec": {
   "display_name": "Python 3",
   "language": "python",
   "name": "python3"
  },
  "language_info": {
   "codemirror_mode": {
    "name": "ipython",
    "version": 3
   },
   "file_extension": ".py",
   "mimetype": "text/x-python",
   "name": "python",
   "nbconvert_exporter": "python",
   "pygments_lexer": "ipython3",
   "version": "3.13.0"
  }
 },
 "nbformat": 4,
 "nbformat_minor": 2
}
